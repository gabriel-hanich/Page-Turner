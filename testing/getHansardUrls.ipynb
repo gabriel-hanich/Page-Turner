{
 "cells": [
  {
   "cell_type": "markdown",
   "id": "29a67e2b-5d29-4749-944a-e66f36d1e762",
   "metadata": {},
   "source": [
    "# Get Hansard URLs\n",
    "Script that automatically downloads the XML data that points to all of the Hansards\n",
    "\n",
    "Senate Hansard page is available [here](http://parlinfo.aph.gov.au/parlInfo/search/summary/summary.w3p;adv%3Dyes;orderBy%3D_fragment_number,doc_date-rev;query%3DDataset%3Ahansards,hansards80;resCount%3DDefault)\n",
    "\n",
    "House of Reps Hansard Page is available [here](http://parlinfo.aph.gov.au/parlInfo/search/summary/summary.w3p;adv%3Dyes;orderBy%3D_fragment_number,doc_date-rev;query%3DDataset%3Ahansardr,hansardr80;resCount%3DDefault)"
   ]
  },
  {
   "cell_type": "markdown",
   "id": "ee15827a-117e-46d1-b45b-549b20696ecd",
   "metadata": {},
   "source": [
    "## NOTE\n",
    "Currently only for the SENATE"
   ]
  },
  {
   "cell_type": "code",
   "execution_count": 5,
   "id": "1f845902-8661-4ada-932d-35b4617391f5",
   "metadata": {},
   "outputs": [],
   "source": [
    "import requests"
   ]
  },
  {
   "cell_type": "code",
   "execution_count": 310,
   "id": "cdf4c920-dc98-4d53-ae56-267267cd8cca",
   "metadata": {},
   "outputs": [],
   "source": [
    "class xmlSnippet(): # A class that represents a snippet of XML data\n",
    "    def __init__(self, rawStr, selfAnalyse, **kwargs):\n",
    "        self.rawStr = rawStr.strip().replace(\"\\\\n\", \"\")\n",
    "        self.properties = kwargs.get(\"properties\", [])\n",
    "        self.errorList = []\n",
    "        if selfAnalyse:\n",
    "            self.errorList = self.analyse()\n",
    "            \n",
    "    \n",
    "    def analyse(self):\n",
    "        tagList = []\n",
    "        errorEntries = []\n",
    "        for index, item in enumerate(self.rawStr.split(\"<\")):\n",
    "            if item[0] != \"/\": # If the line doesn't contain a closing tag\n",
    "                try:\n",
    "                    key = item.split(\">\")[0]\n",
    "                    value = item.split(\">\")[1]\n",
    "                    attributes = {}\n",
    "                    \n",
    "                    # If the XML has attributes associated with it\n",
    "                    if \" \" in key: \n",
    "                        keyList = key.split(\" \")\n",
    "                        key = keyList[0]\n",
    "                        for attribute in keyList:\n",
    "                            if attribute != key:\n",
    "                                attrPair = attribute.split(\"=\")\n",
    "                                attributes[attrPair[0]] = attrPair[1]\n",
    "                    \n",
    "                    self.properties.append(\n",
    "                        {\n",
    "                            \"key\": key,\n",
    "                            \"value\": value,\n",
    "                            \"attr\": attributes\n",
    "                        }\n",
    "                    )\n",
    "                \n",
    "                except IndexError:\n",
    "                    errorEntries.append(item)\n",
    "        return errorEntries\n",
    "\n",
    "    def display(self):\n",
    "        print(f\"{'Key':<15} | {'Attr Count':<15} | Value\")\n",
    "        print(f\"{'-'*16}|{'-'*17}|{'-'*15}\")\n",
    "        for item in self.properties:\n",
    "            print(f\"{item['key']:<15} | {str(len(item['attr'])):<15} | {item['value']}\")\n"
   ]
  },
  {
   "cell_type": "code",
   "execution_count": 423,
   "id": "52c36930-6f83-4a44-8321-51e61b5f9d8e",
   "metadata": {},
   "outputs": [],
   "source": [
    "headers = {\"User-Agent\": \"Mozilla/5.0 (X11; Linux x86_64) AppleWebKit/537.36 (KHTML, like Gecko) Chrome/88.0.4324.96 Safari/537.36\"} # Bot detection who?\n",
    "startPageNumber = 0 # The first page of results that will be downloaded (Index starts at 0)\n",
    "endPageNumber = 16 # The final page of results to be downloaded\n",
    "rssData = requests.get(otherURL, headers=headers)"
   ]
  },
  {
   "cell_type": "code",
   "execution_count": 424,
   "id": "e28496ec-565a-47aa-b6a6-0d3fa5f9da83",
   "metadata": {},
   "outputs": [],
   "source": [
    "content = str(rssData.content)"
   ]
  },
  {
   "cell_type": "code",
   "execution_count": 461,
   "id": "a24b0743-8708-4a07-b8e3-0c7894306ff9",
   "metadata": {},
   "outputs": [
    {
     "name": "stdout",
     "output_type": "stream",
     "text": [
      "Just wrote data for page 2\n",
      "Key             | Attr Count      | Value\n",
      "----------------|-----------------|---------------\n",
      "title           | 0               | Title Unavailable\n",
      "link            | 0               | https://parlinfo.aph.gov.au:443/parlInfo/search/display/display.w3p;query=Id%3A%22chamber%2Fhansardr%2F2008-08-26%2F0000%22\n",
      "guid            | 1               | https://parlinfo.aph.gov.au:443/parlInfo/search/display/display.w3p;query=Id%3A%22chamber%2Fhansardr%2F2008-08-26%2F0000%22\n",
      "pubDate         | 0               | Tue, 26 Aug 2008 00:00:00 +1100\n",
      "None\n",
      "Key             | Attr Count      | Value\n",
      "----------------|-----------------|---------------\n",
      "title           | 0               | Title Unavailable\n",
      "link            | 0               | https://parlinfo.aph.gov.au:443/parlInfo/search/display/display.w3p;query=Id%3A%22chamber%2Fhansardr%2F2000-10-09%2F0000%22\n",
      "guid            | 1               | https://parlinfo.aph.gov.au:443/parlInfo/search/display/display.w3p;query=Id%3A%22chamber%2Fhansardr%2F2000-10-09%2F0000%22\n",
      "pubDate         | 0               | Mon, 09 Oct 2000 00:00:00 +1100\n",
      "None\n"
     ]
    }
   ],
   "source": [
    "headers = {\"User-Agent\": \"Mozilla/5.0 (X11; Linux x86_64) AppleWebKit/537.36 (KHTML, like Gecko) Chrome/88.0.4324.96 Safari/537.36\"}\n",
    "for pageNumber in range(startPageNumber, endPageNumber):\n",
    "    # The URL for a page with a given index\n",
    "    rssURL = f\"https://parlinfo.aph.gov.au/parlInfo/feeds/rss.w3p;adv=yes;orderBy=_fragment_number,doc_date-rev;page={pageNumber+1};query=Dataset%3Ahansardr,hansardr80;resCount=Default\"\n",
    "    if pageNumber == 0:\n",
    "        # The URL for the first page (it isn't the same as the rest)\n",
    "        rssURL = \"https://parlinfo.aph.gov.au/parlInfo/feeds/rss.w3p;adv=yes;orderBy=_fragment_number,doc_date-rev;query=Dataset%3Ahansardr,hansardr80;resCount=Default\"\n",
    "    \n",
    "    rssData = requests.get(rssURL, headers=headers)\n",
    "    content = str(rssData.content)\n",
    "    with open(f\"../data/senate/urlLists/list{pageNumber}.txt\", \"w\", encoding=\"utf-8\") as listFile:\n",
    "        listFile.write(str(rssData.content))\n",
    "    print(f\"Just wrote data for page {pageNumber}\")\n",
    "    print(xmlSnippet(content.split(\"<item>\")[2], True).display())\n",
    "    print(xmlSnippet(content.split(\"<item>\")[-2], True).display())"
   ]
  },
  {
   "cell_type": "code",
   "execution_count": null,
   "id": "0964d0bb-4197-491b-a087-b526a64dffab",
   "metadata": {},
   "outputs": [],
   "source": []
  }
 ],
 "metadata": {
  "kernelspec": {
   "display_name": "Python 3 (ipykernel)",
   "language": "python",
   "name": "python3"
  },
  "language_info": {
   "codemirror_mode": {
    "name": "ipython",
    "version": 3
   },
   "file_extension": ".py",
   "mimetype": "text/x-python",
   "name": "python",
   "nbconvert_exporter": "python",
   "pygments_lexer": "ipython3",
   "version": "3.12.7"
  }
 },
 "nbformat": 4,
 "nbformat_minor": 5
}
