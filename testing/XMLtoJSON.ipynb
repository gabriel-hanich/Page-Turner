{
 "cells": [
  {
   "cell_type": "markdown",
   "id": "33dbf94d-c9b2-4ce1-8207-8f3fdd0051f2",
   "metadata": {},
   "source": [
    "# XML to JSON\n",
    "Converts XML files into JSON, Currently only works for the URL lists provided by `getHansardUrls.ipynb`"
   ]
  },
  {
   "cell_type": "code",
   "execution_count": 9,
   "id": "d3f86a3f-eed7-4ca0-a339-9201f38bc7ba",
   "metadata": {},
   "outputs": [],
   "source": [
    "import json"
   ]
  },
  {
   "cell_type": "code",
   "execution_count": 209,
   "id": "af842680-c87b-4b0a-ad3b-6c9110cf69a5",
   "metadata": {},
   "outputs": [
    {
     "name": "stdout",
     "output_type": "stream",
     "text": [
      "Title Unavailable,,https://parlinfo.aph.gov.au:443/parlInfo/search/display/display.w3pXquery=Id%3A%22hansard80%2Fhansardr80%2F1903-10-07%2F0000%22,Wed- 07 Oct 1903 00:00:00 +1100,\n"
     ]
    }
   ],
   "source": [
    "class xmlSnippet(): # A class that represents a snippet of XML data\n",
    "    def __init__(self, rawStr, selfAnalyse, **kwargs):\n",
    "        self.rawStr = rawStr.strip().replace(\"\\\\n\", \"\")\n",
    "        self.properties = kwargs.get(\"properties\", [])\n",
    "        self.errorList = []\n",
    "        if selfAnalyse:\n",
    "            self.errorList = self.analyse()\n",
    "            \n",
    "    \n",
    "    def analyse(self):\n",
    "        tagList = []\n",
    "        errorEntries = []\n",
    "        for index, item in enumerate(self.rawStr.split(\"<\")):\n",
    "            try:\n",
    "                if item[0] != \"/\": # If the line doesn't contain a closing tag\n",
    "                    key = item.split(\">\")[0]\n",
    "                    value = item.split(\">\")[1]\n",
    "                    attributes = {}\n",
    "                    \n",
    "                    # If the XML has attributes associated with it\n",
    "                    if \" \" in key: \n",
    "                        keyList = key.split(\" \")\n",
    "                        key = keyList[0]\n",
    "                        for attribute in keyList:\n",
    "                            if attribute != key:\n",
    "                                attrPair = attribute.split(\"=\")\n",
    "                                attributes[attrPair[0]] = attrPair[1]\n",
    "                    \n",
    "                    self.properties.append(\n",
    "                        {\n",
    "                            \"key\": key,\n",
    "                            \"value\": value,\n",
    "                            \"attr\": attributes\n",
    "                        }\n",
    "                    )\n",
    "                \n",
    "            except IndexError:\n",
    "                errorEntries.append(item)\n",
    "        return errorEntries\n",
    "\n",
    "    def display(self):\n",
    "        print(f\"{'Key':<15} | {'Attr Count':<15} | Value\")\n",
    "        print(f\"{'-'*16}|{'-'*17}|{'-'*15}\")\n",
    "        for item in self.properties:\n",
    "            print(f\"{item['key']:<15} | {str(len(item['attr'])):<15} | {item['value']}\")\n",
    "\n",
    "    def toJSON(self):\n",
    "        data = {}\n",
    "        for entry in self.properties:\n",
    "            data[entry[\"key\"]] = entry[\"value\"]\n",
    "        return data\n",
    "\n",
    "    def toCSV(self, titleList):\n",
    "        data = ''\n",
    "        keyList = [item['key'] for item in self.properties]\n",
    "        for item in titleList:\n",
    "            try:\n",
    "                data += self.properties[keyList.index(item)]['value'].replace(\",\", \"-\").replace(\";\",\"X\") + \",\"\n",
    "            except ValueError:\n",
    "                data += ','\n",
    "            \n",
    "        return data\n",
    "\n",
    "print(xmlSnippet(item, True).toCSV(['title', 'WAHOO', 'link', 'pubDate']))\n"
   ]
  },
  {
   "cell_type": "code",
   "execution_count": 211,
   "id": "0e6cfb3b-02ac-4ca8-9324-97fd1da29910",
   "metadata": {},
   "outputs": [],
   "source": [
    "# Load XML Data\n",
    "pageCount = 16\n",
    "chamber = \"senate\" # Either 'senate' or 'house'\n",
    "xmlData = []"
   ]
  },
  {
   "cell_type": "code",
   "execution_count": 213,
   "id": "625d2623-bf48-47ce-a6f4-3f8d339363f6",
   "metadata": {},
   "outputs": [],
   "source": [
    "# Load the Data\n",
    "for pNumber in range(pageCount):\n",
    "    with open(f\"../data/{chamber}/urlLists/list{pNumber}.txt\", \"r\") as xmlFile:\n",
    "        content = xmlFile.read()\n",
    "    for item in content.split(\"<item>\"):\n",
    "        xmlData.append(xmlSnippet(item, True))"
   ]
  },
  {
   "cell_type": "code",
   "execution_count": 221,
   "id": "0fdada68-6c26-48a7-abff-fc6d05fa316e",
   "metadata": {},
   "outputs": [],
   "source": [
    "# JSON Output\n",
    "dataDict = []\n",
    "for row in xmlData:\n",
    "    dataDict.append(row.toJSON())"
   ]
  },
  {
   "cell_type": "code",
   "execution_count": 225,
   "id": "e98937d4-4d13-41af-80d3-80b81309c1ba",
   "metadata": {},
   "outputs": [],
   "source": [
    "with open(f\"../data/{chamber}/urlLists/{chamber}URLsDB.json\", \"w\") as outputFile:\n",
    "    json.dump(dataDict,outputFile, indent=2)"
   ]
  },
  {
   "cell_type": "code",
   "execution_count": 215,
   "id": "2e02ffec-ec32-48a4-93b8-4bf80a1c904a",
   "metadata": {},
   "outputs": [],
   "source": [
    "# CSV Output\n",
    "titles = ['title', 'pubDate', 'link']\n",
    "csvData = \",\".join(titles) + \"\\n\"\n",
    "for row in xmlData:\n",
    "    csvData += row.toCSV(titles) + \"\\n\""
   ]
  },
  {
   "cell_type": "code",
   "execution_count": 216,
   "id": "a4bf3a09-fca6-4232-a2f8-d463cfe32b7f",
   "metadata": {},
   "outputs": [],
   "source": [
    "with open(f\"../data/{chamber}/urlLists/{chamber}URLsSheet.csv\", \"w\") as outputFile:\n",
    "    outputFile.write(csvData)"
   ]
  }
 ],
 "metadata": {
  "kernelspec": {
   "display_name": "Python 3 (ipykernel)",
   "language": "python",
   "name": "python3"
  },
  "language_info": {
   "codemirror_mode": {
    "name": "ipython",
    "version": 3
   },
   "file_extension": ".py",
   "mimetype": "text/x-python",
   "name": "python",
   "nbconvert_exporter": "python",
   "pygments_lexer": "ipython3",
   "version": "3.12.7"
  }
 },
 "nbformat": 4,
 "nbformat_minor": 5
}
